{
 "cells": [
  {
   "cell_type": "code",
   "execution_count": 1,
   "metadata": {},
   "outputs": [],
   "source": [
    "import pandas as pd\n",
    "import matplotlib.pyplot as plt\n",
    "import numpy as np\n",
    "import requests\n",
    "import time\n",
    "from scipy.stats import linregress\n",
    "import json"
   ]
  },
  {
   "cell_type": "code",
   "execution_count": 2,
   "metadata": {},
   "outputs": [],
   "source": [
    "from api_key import api_key\n",
    "#np.random.seed(2)"
   ]
  },
  {
   "cell_type": "code",
   "execution_count": 3,
   "metadata": {},
   "outputs": [],
   "source": [
    "# Incorporated citipy to determine city based on latitude and longitude\n",
    "from citipy import citipy\n",
    "\n",
    "# Output File (CSV)\n",
    "output_data_file = \"output_data/cities.csv\"\n",
    "\n",
    "# Range of latitudes and longitudes\n",
    "lat_range = (-90, 90)\n",
    "lng_range = (-180, 180)"
   ]
  },
  {
   "cell_type": "code",
   "execution_count": 4,
   "metadata": {},
   "outputs": [
    {
     "name": "stdout",
     "output_type": "stream",
     "text": [
      "790\n"
     ]
    }
   ],
   "source": [
    "# List for holding lat_lngs and cities\n",
    "lat_lngs = []\n",
    "cities = []\n",
    "\n",
    "# Create a set of random lat and lng combinations\n",
    "lats = np.random.uniform(lat_range[0], lat_range[1], size=1500)\n",
    "lngs = np.random.uniform(lng_range[0], lng_range[1], size=1500)\n",
    "lat_lngs = zip(lats, lngs)\n",
    "\n",
    "# Identify nearest city for each lat, lng combination\n",
    "for lat_lng in lat_lngs:\n",
    "    city = citipy.nearest_city(lat_lng[0], lat_lng[1]).city_name\n",
    "    \n",
    "    # If the city is unique, then add it to a our cities list\n",
    "    if city not in cities:\n",
    "        cities.append(city.replace(\" \", \"%20\"))\n",
    "\n",
    "# Print the city count to confirm sufficient count\n",
    "print(len(cities))\n",
    "\n"
   ]
  },
  {
   "cell_type": "code",
   "execution_count": 6,
   "metadata": {},
   "outputs": [],
   "source": [
    "url = \"api.openweathermap.org/data/2.5/weather?q=\"\n",
    "city_list=[]\n",
    "temp=[]\n",
    "humidity=[]\n",
    "cloudiness=[]\n",
    "wind_speed=[]\n",
    "lat=[]\n",
    "long=[]\n",
    "country = []\n",
    "date=[]\n",
    "\n",
    "for city in cities:\n",
    "    full_url = \"http://\" + url + city + \"&units=imperial&appid=\" + api_key\n",
    "    weather_data = requests.get(full_url).json()\n",
    "    try:\n",
    "        weather_dict = weather_data['main']    \n",
    "        wind_dict = weather_data['wind']\n",
    "        cloud_dict = weather_data['clouds']\n",
    "        lat_long_dict = weather_data['coord']\n",
    "        country_dict=weather_data['sys']\n",
    "        temp.append(weather_dict['temp_max'])\n",
    "        city_list.append(city.replace(\"%20\", ' '))\n",
    "        humidity.append(weather_dict['humidity'])\n",
    "        cloudiness.append(cloud_dict['all'])\n",
    "        wind_speed.append(wind_dict['speed'])\n",
    "        lat.append(lat_long_dict['lat'])\n",
    "        long.append(lat_long_dict['lon'])\n",
    "        country.append(country_dict['country'])\n",
    "        date.append(weather_data['dt'])\n",
    "     \n",
    "    except KeyError:\n",
    "        cities.remove(city)\n",
    "\n",
    "\n",
    "\n"
   ]
  },
  {
   "cell_type": "code",
   "execution_count": 16,
   "metadata": {},
   "outputs": [
    {
     "data": {
      "text/html": [
       "<div>\n",
       "<style scoped>\n",
       "    .dataframe tbody tr th:only-of-type {\n",
       "        vertical-align: middle;\n",
       "    }\n",
       "\n",
       "    .dataframe tbody tr th {\n",
       "        vertical-align: top;\n",
       "    }\n",
       "\n",
       "    .dataframe thead th {\n",
       "        text-align: right;\n",
       "    }\n",
       "</style>\n",
       "<table border=\"1\" class=\"dataframe\">\n",
       "  <thead>\n",
       "    <tr style=\"text-align: right;\">\n",
       "      <th></th>\n",
       "      <th>City</th>\n",
       "      <th>Latitude</th>\n",
       "      <th>Longitude</th>\n",
       "      <th>Max_temp</th>\n",
       "      <th>Humidity</th>\n",
       "      <th>Clouds</th>\n",
       "      <th>Wind_speed</th>\n",
       "      <th>Country</th>\n",
       "      <th>Date</th>\n",
       "    </tr>\n",
       "  </thead>\n",
       "  <tbody>\n",
       "    <tr>\n",
       "      <th>0</th>\n",
       "      <td>san matias</td>\n",
       "      <td>-16.3667</td>\n",
       "      <td>-58.4000</td>\n",
       "      <td>75.69</td>\n",
       "      <td>83</td>\n",
       "      <td>11</td>\n",
       "      <td>5.10</td>\n",
       "      <td>BO</td>\n",
       "      <td>1612152701</td>\n",
       "    </tr>\n",
       "    <tr>\n",
       "      <th>1</th>\n",
       "      <td>butaritari</td>\n",
       "      <td>3.0707</td>\n",
       "      <td>172.7902</td>\n",
       "      <td>81.25</td>\n",
       "      <td>82</td>\n",
       "      <td>53</td>\n",
       "      <td>14.03</td>\n",
       "      <td>KI</td>\n",
       "      <td>1612152399</td>\n",
       "    </tr>\n",
       "    <tr>\n",
       "      <th>2</th>\n",
       "      <td>harnosand</td>\n",
       "      <td>62.6323</td>\n",
       "      <td>17.9379</td>\n",
       "      <td>12.00</td>\n",
       "      <td>92</td>\n",
       "      <td>95</td>\n",
       "      <td>3.44</td>\n",
       "      <td>SE</td>\n",
       "      <td>1612152702</td>\n",
       "    </tr>\n",
       "    <tr>\n",
       "      <th>3</th>\n",
       "      <td>goderich</td>\n",
       "      <td>43.7501</td>\n",
       "      <td>-81.7165</td>\n",
       "      <td>15.80</td>\n",
       "      <td>57</td>\n",
       "      <td>94</td>\n",
       "      <td>10.36</td>\n",
       "      <td>CA</td>\n",
       "      <td>1612152436</td>\n",
       "    </tr>\n",
       "    <tr>\n",
       "      <th>4</th>\n",
       "      <td>bethel</td>\n",
       "      <td>41.3712</td>\n",
       "      <td>-73.4140</td>\n",
       "      <td>19.99</td>\n",
       "      <td>58</td>\n",
       "      <td>90</td>\n",
       "      <td>6.91</td>\n",
       "      <td>US</td>\n",
       "      <td>1612152205</td>\n",
       "    </tr>\n",
       "  </tbody>\n",
       "</table>\n",
       "</div>"
      ],
      "text/plain": [
       "         City  Latitude  Longitude  Max_temp  Humidity  Clouds  Wind_speed  \\\n",
       "0  san matias  -16.3667   -58.4000     75.69        83      11        5.10   \n",
       "1  butaritari    3.0707   172.7902     81.25        82      53       14.03   \n",
       "2   harnosand   62.6323    17.9379     12.00        92      95        3.44   \n",
       "3    goderich   43.7501   -81.7165     15.80        57      94       10.36   \n",
       "4      bethel   41.3712   -73.4140     19.99        58      90        6.91   \n",
       "\n",
       "  Country        Date  \n",
       "0      BO  1612152701  \n",
       "1      KI  1612152399  \n",
       "2      SE  1612152702  \n",
       "3      CA  1612152436  \n",
       "4      US  1612152205  "
      ]
     },
     "execution_count": 16,
     "metadata": {},
     "output_type": "execute_result"
    }
   ],
   "source": [
    "city_data = pd.DataFrame({'City': city_list,\n",
    "                           'Latitude': lat,\n",
    "                          'Longitude': long,\n",
    "                          'Max_temp': temp,\n",
    "                          'Humidity': humidity,\n",
    "                          'Clouds': cloudiness,\n",
    "                          'Wind_speed': wind_speed,\n",
    "                          'Country': country,\n",
    "                          'Date': date})\n",
    "\n",
    "city_data.head()"
   ]
  },
  {
   "cell_type": "code",
   "execution_count": 8,
   "metadata": {},
   "outputs": [],
   "source": [
    "city_data.to_csv('city_data.csv')"
   ]
  },
  {
   "cell_type": "code",
   "execution_count": 12,
   "metadata": {},
   "outputs": [
    {
     "data": {
      "text/html": [
       "<div>\n",
       "<style scoped>\n",
       "    .dataframe tbody tr th:only-of-type {\n",
       "        vertical-align: middle;\n",
       "    }\n",
       "\n",
       "    .dataframe tbody tr th {\n",
       "        vertical-align: top;\n",
       "    }\n",
       "\n",
       "    .dataframe thead th {\n",
       "        text-align: right;\n",
       "    }\n",
       "</style>\n",
       "<table border=\"1\" class=\"dataframe\">\n",
       "  <thead>\n",
       "    <tr style=\"text-align: right;\">\n",
       "      <th></th>\n",
       "      <th>City</th>\n",
       "      <th>Latitude</th>\n",
       "      <th>Longitude</th>\n",
       "      <th>Max_temp</th>\n",
       "      <th>Humidity</th>\n",
       "      <th>Clouds</th>\n",
       "      <th>Wind_speed</th>\n",
       "      <th>Country</th>\n",
       "      <th>Date</th>\n",
       "    </tr>\n",
       "  </thead>\n",
       "  <tbody>\n",
       "  </tbody>\n",
       "</table>\n",
       "</div>"
      ],
      "text/plain": [
       "Empty DataFrame\n",
       "Columns: [City, Latitude, Longitude, Max_temp, Humidity, Clouds, Wind_speed, Country, Date]\n",
       "Index: []"
      ]
     },
     "execution_count": 12,
     "metadata": {},
     "output_type": "execute_result"
    }
   ],
   "source": [
    "high_humidity = city_data.loc[city_data['Humidity']>100]\n",
    "high_humidity"
   ]
  },
  {
   "cell_type": "markdown",
   "metadata": {},
   "source": [
    "# Scatter plots"
   ]
  },
  {
   "cell_type": "code",
   "execution_count": null,
   "metadata": {},
   "outputs": [],
   "source": [
    "x_axis = weather_df['latitude']\n",
    "y_axis = weather_df['max_temp']\n"
   ]
  }
 ],
 "metadata": {
  "kernelspec": {
   "display_name": "Python [conda env:PythonData2] *",
   "language": "python",
   "name": "conda-env-PythonData2-py"
  },
  "language_info": {
   "codemirror_mode": {
    "name": "ipython",
    "version": 3
   },
   "file_extension": ".py",
   "mimetype": "text/x-python",
   "name": "python",
   "nbconvert_exporter": "python",
   "pygments_lexer": "ipython3",
   "version": "3.6.10"
  }
 },
 "nbformat": 4,
 "nbformat_minor": 4
}
